{
 "cells": [
  {
   "cell_type": "code",
   "execution_count": null,
   "source": [
    "PNG_PATH = 'C:\\\\Users\\\\user\\\\Downloads\\\\deep_scores_dense\\\\deep_scores_dense\\\\images_png'\n",
    "XML_PATH = 'C:\\\\Users\\\\user\\\\Downloads\\\\deep_scores_dense\\\\deep_scores_dense\\\\xml_annotations'\n",
    "X = 100\n",
    "Y = 100\n",
    "PARTS_NUMBER = 100"
   ],
   "outputs": [],
   "metadata": {
    "tags": []
   }
  },
  {
   "cell_type": "code",
   "execution_count": null,
   "source": [
    "import os\n",
    "import imageio as im\n",
    "import random\n",
    "import numpy as np\n",
    "import time\n",
    "from dataclasses import dataclass\n",
    "import xml.etree.ElementTree as ET\n",
    "\n",
    "random.seed()   \n",
    "\n",
    "def split_image(filename):\n",
    "    \n",
    "    image = np.array(im.imread(PNG_PATH + \"\\\\\" + filename))\n",
    "    print(filename)\n",
    "    shape = np.shape(image)\n",
    "    max_y = shape[0] - Y\n",
    "    max_x = shape[1] - X\n",
    "    parts = []\n",
    "    \n",
    "    for i in range(PARTS_NUMBER):\n",
    "        random_y = random.randrange(max_y)\n",
    "        random_x = random.randrange(max_x)\n",
    "        slice = image[random_y:random_y + Y, random_x:random_x + X, 0]\n",
    "        parts.append(slice)\n",
    "        \n",
    "    return parts"
   ],
   "outputs": [],
   "metadata": {
    "tags": []
   }
  },
  {
   "cell_type": "code",
   "execution_count": null,
   "source": [
    "@dataclass\n",
    "class BoundingBox:\n",
    "    xmin: int\n",
    "    xmax: int\n",
    "    ymin: int\n",
    "    ymax: int\n",
    "        \n",
    "    def is_within(self, bb):\n",
    "        return bb.xmin >= xmin and bb.xmax <= xmax and bb.ymin >= ymin and bb.ymax <= ymax\n",
    "\n",
    "    def get_normalized(self, x, y):\n",
    "        return BoundingBox(xmin/x, xmax/x, ymin/y, ymax/y)\n",
    "\n",
    "    \n",
    "@dataclass\n",
    "class Element:\n",
    "    typ: str\n",
    "    bounding_box: BoundingBox   \n",
    "         \n",
    "    \n",
    "class Page:\n",
    "\n",
    "    def __init__(self, name, png):\n",
    "        self.name = name\n",
    "        self.elements = []\n",
    "        self.png = png\n",
    "        \n",
    "    def add(self, element):\n",
    "        self.elements.append(element)\n",
    "        \n",
    "    def retrieve_from_box(self, bb):\n",
    "        filtered = []\n",
    "        for e in elements:\n",
    "            if e.bounding_box.is_within(bb):\n",
    "                filtered.append(e)\n",
    "        return filtered\n",
    "    \n",
    "class Retriever:\n",
    "    \n",
    "    def retrieve():\n",
    "\n",
    "        files = os.listdir(XML_PATH)\n",
    "        pages = []\n",
    "        num_of_files = len(files)\n",
    "        counter = 1\n",
    "\n",
    "        for f in files:\n",
    "\n",
    "            if counter % 10 == 0:\n",
    "                print(f'{round(counter*10/num_of_files)}% of the files processed, we are at {counter} in {num_of_files}.')\n",
    "            counter += 1\n",
    "            image = np(im.imread(PNG_PATH + \"\\\\\" + f.replace(\"xml\", \"png\")))\n",
    "            page = Page(f, image)\n",
    "            tree = ET.parse(XML_PATH + \"\\\\\" + f)\n",
    "            root = tree.getroot()\n",
    "\n",
    "            for obj in root.iter('object'):\n",
    "\n",
    "                raw_bb = obj.find('bndbox')\n",
    "                page.add(BoundingBox(\n",
    "                    raw_bb.find('xmin'),\n",
    "                    raw_bb.find('xmax'),\n",
    "                    raw_bb.find('ymin'),\n",
    "                    raw_bb.find('ymax')\n",
    "                ))\n",
    "\n",
    "            pages.append(page)\n",
    "\n",
    "        return pages         "
   ],
   "outputs": [],
   "metadata": {}
  },
  {
   "cell_type": "code",
   "execution_count": null,
   "source": [],
   "outputs": [],
   "metadata": {}
  },
  {
   "cell_type": "code",
   "execution_count": null,
   "source": [
    "pages = Retriever.retrieve() "
   ],
   "outputs": [],
   "metadata": {
    "tags": []
   }
  },
  {
   "cell_type": "code",
   "execution_count": null,
   "source": [
    "print(pages[0].elements[0].xmax.text)\r\n"
   ],
   "outputs": [],
   "metadata": {}
  },
  {
   "cell_type": "code",
   "execution_count": null,
   "source": [],
   "outputs": [],
   "metadata": {}
  }
 ],
 "metadata": {
  "kernelspec": {
   "name": "python3",
   "display_name": "Python 3.9.6 64-bit"
  },
  "language_info": {
   "codemirror_mode": {
    "name": "ipython",
    "version": 3
   },
   "file_extension": ".py",
   "mimetype": "text/x-python",
   "name": "python",
   "nbconvert_exporter": "python",
   "pygments_lexer": "ipython3",
   "version": "3.9.6"
  },
  "interpreter": {
   "hash": "247ab06e135bb35fa78c5eff31b2a9a0050dcb5fb773c2631d2a29ac689eeccb"
  }
 },
 "nbformat": 4,
 "nbformat_minor": 5
}