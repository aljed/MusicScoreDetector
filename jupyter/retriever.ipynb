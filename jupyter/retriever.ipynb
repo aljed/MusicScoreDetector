{
 "cells": [
  {
   "cell_type": "code",
   "source": [
    "from google.colab import drive\n",
    "drive.mount('/content/drive')\n",
    "import sys\n",
    "sys.path.append('/content/drive/MyDrive')"
   ],
   "metadata": {
    "colab": {
     "base_uri": "https://localhost:8080/"
    },
    "id": "_u1bifI6JLr_",
    "executionInfo": {
     "status": "ok",
     "timestamp": 1641923654181,
     "user_tz": -60,
     "elapsed": 2633,
     "user": {
      "displayName": "Aleksander Jedynak",
      "photoUrl": "https://lh3.googleusercontent.com/a/default-user=s64",
      "userId": "04486690955975365452"
     }
    },
    "outputId": "0dfff9ae-b45b-42ff-c1fd-298b9eb045e7"
   },
   "id": "_u1bifI6JLr_",
   "execution_count": 46,
   "outputs": [
    {
     "output_type": "stream",
     "name": "stdout",
     "text": [
      "Drive already mounted at /content/drive; to attempt to forcibly remount, call drive.mount(\"/content/drive\", force_remount=True).\n"
     ]
    }
   ]
  },
  {
   "cell_type": "code",
   "source": [
    "cd /content/drive/Othercomputers/laptop/jupyter/"
   ],
   "metadata": {
    "id": "M02LnbZMJeiB",
    "colab": {
     "base_uri": "https://localhost:8080/"
    },
    "executionInfo": {
     "status": "ok",
     "timestamp": 1641923654181,
     "user_tz": -60,
     "elapsed": 6,
     "user": {
      "displayName": "Aleksander Jedynak",
      "photoUrl": "https://lh3.googleusercontent.com/a/default-user=s64",
      "userId": "04486690955975365452"
     }
    },
    "outputId": "4a355416-f060-4ea7-eaab-d1fbb3a119c2"
   },
   "id": "M02LnbZMJeiB",
   "execution_count": 47,
   "outputs": [
    {
     "output_type": "stream",
     "name": "stdout",
     "text": [
      "/content/drive/Othercomputers/laptop/jupyter\n"
     ]
    }
   ]
  },
  {
   "cell_type": "code",
   "execution_count": 48,
   "source": [
    "import random\n",
    "import data\n",
    "import os\n",
    "import parameters as p\n",
    "import tensorflow as tf\n",
    "import importlib\n",
    "import viewer as v\n",
    "import numpy as np\n",
    "import pickle"
   ],
   "outputs": [],
   "metadata": {
    "id": "UTlRuB4NI28K",
    "executionInfo": {
     "status": "ok",
     "timestamp": 1641923654182,
     "user_tz": -60,
     "elapsed": 6,
     "user": {
      "displayName": "Aleksander Jedynak",
      "photoUrl": "https://lh3.googleusercontent.com/a/default-user=s64",
      "userId": "04486690955975365452"
     }
    }
   },
   "id": "UTlRuB4NI28K"
  },
  {
   "cell_type": "code",
   "execution_count": 49,
   "outputs": [
    {
     "output_type": "execute_result",
     "data": {
      "text/plain": [
       "<module 'data' from '/content/drive/Othercomputers/laptop/jupyter/data.py'>"
      ]
     },
     "metadata": {},
     "execution_count": 49
    }
   ],
   "source": [
    "importlib.reload(p)\n",
    "importlib.reload(data)"
   ],
   "metadata": {
    "pycharm": {
     "name": "#%%\n"
    },
    "id": "kkpL3txRI28O",
    "colab": {
     "base_uri": "https://localhost:8080/"
    },
    "executionInfo": {
     "status": "ok",
     "timestamp": 1641923654182,
     "user_tz": -60,
     "elapsed": 6,
     "user": {
      "displayName": "Aleksander Jedynak",
      "photoUrl": "https://lh3.googleusercontent.com/a/default-user=s64",
      "userId": "04486690955975365452"
     }
    },
    "outputId": "913b70ab-f491-42ce-a275-a76545c34d6c"
   },
   "id": "kkpL3txRI28O"
  },
  {
   "cell_type": "code",
   "execution_count": 50,
   "source": [
    "random.seed()\n",
    "classes = data.retrieve_class_names()\n",
    "output_dim = p.GX * p.GY * (5 + len(classes))\n",
    "# pages = data.Retriever().retrieve(classes)"
   ],
   "outputs": [],
   "metadata": {
    "tags": [],
    "id": "FS51p45kI28P",
    "executionInfo": {
     "status": "ok",
     "timestamp": 1641923654182,
     "user_tz": -60,
     "elapsed": 5,
     "user": {
      "displayName": "Aleksander Jedynak",
      "photoUrl": "https://lh3.googleusercontent.com/a/default-user=s64",
      "userId": "04486690955975365452"
     }
    }
   },
   "id": "FS51p45kI28P"
  },
  {
   "cell_type": "code",
   "source": [
    "def generate_data(data_dir_path, batch_size, output_size):\n",
    "    files = os.listdir(data_dir_path)\n",
    "    pad = []\n",
    "    for file in files:\n",
    "        with open(data_dir_path + b'/' + file, 'rb') as data_file:\n",
    "            part_data = pickle.load(data_file)\n",
    "        part_data = pad + part_data\n",
    "        pad_size = len(part_data) % batch_size\n",
    "        batches_number = int(len(part_data) / batch_size)\n",
    "        pad = part_data[len(part_data) - pad_size:]\n",
    "        part_data = part_data[:len(part_data) - pad_size]\n",
    "        for j in range(batches_number):\n",
    "            batch = part_data[j * batch_size:(j + 1) * batch_size]\n",
    "            yield (np.reshape(np.array([i for i, j in batch]), (batch_size, p.X, p.Y, 3)),\n",
    "                   np.reshape(np.array([j for i, j in batch]), (batch_size, output_size)))"
   ],
   "metadata": {
    "id": "MrVBZ3BwJQuG",
    "executionInfo": {
     "status": "ok",
     "timestamp": 1641923654183,
     "user_tz": -60,
     "elapsed": 5,
     "user": {
      "displayName": "Aleksander Jedynak",
      "photoUrl": "https://lh3.googleusercontent.com/a/default-user=s64",
      "userId": "04486690955975365452"
     }
    }
   },
   "id": "MrVBZ3BwJQuG",
   "execution_count": 51,
   "outputs": []
  },
  {
   "cell_type": "code",
   "execution_count": 52,
   "source": [
    "files = os.listdir(p.PNG_PATH)\n",
    "# generator = data.Generator(pages, output_dim, classes)\n",
    "\n",
    "ds = tf.data.Dataset.from_generator(\n",
    "    generate_data,\n",
    "    args=['/content/drive/MyDrive/noteheadBlack', p.BATCH_SIZE, output_dim],\n",
    "    output_types=(tf.int32, tf.float32),\n",
    "    output_shapes=([p.BATCH_SIZE, p.Y, p.X, 3], [p.BATCH_SIZE, output_dim]))"
   ],
   "outputs": [],
   "metadata": {
    "id": "4NVlEXhKI28Q",
    "executionInfo": {
     "status": "ok",
     "timestamp": 1641923654563,
     "user_tz": -60,
     "elapsed": 384,
     "user": {
      "displayName": "Aleksander Jedynak",
      "photoUrl": "https://lh3.googleusercontent.com/a/default-user=s64",
      "userId": "04486690955975365452"
     }
    }
   },
   "id": "4NVlEXhKI28Q"
  },
  {
   "cell_type": "code",
   "execution_count": 53,
   "source": [
    "from keras import backend as K\n",
    "\n",
    "def get_loss(y_actual,y_pred):\n",
    "\n",
    "    y_actual_reshaped = K.reshape(y_actual, [p.BATCH_SIZE * p.GX * p.GY, -1])\n",
    "    y_pred_reshaped = K.reshape(y_pred, [p.BATCH_SIZE * p.GX * p.GY, -1])\n",
    "\n",
    "    main_probs_act = y_actual_reshaped[..., 0:1]\n",
    "    main_probs_pred = y_pred_reshaped[..., 0:1]\n",
    "    xy_probs_act = y_actual_reshaped[..., 1:3]\n",
    "    xy_probs_pred = y_pred_reshaped[..., 1:3 ]\n",
    "    wh_probs_act = y_actual_reshaped[..., 3:5]\n",
    "    wh_probs_pred = y_pred_reshaped[..., 3:5 ]\n",
    "    classes_probs_act = y_actual_reshaped[..., 5:]\n",
    "    classes_probs_pred =  y_pred_reshaped[..., 5:]\n",
    "\n",
    "    loss = 4 * K.sum(K.abs(main_probs_act - main_probs_pred))\n",
    "    loss += 4 * K.sum(K.sum(K.abs(xy_probs_act - xy_probs_pred) * main_probs_act, 1) )\n",
    "    loss += K.sum(K.sum(K.abs(wh_probs_act - wh_probs_pred) * main_probs_act, 1) )\n",
    "    # loss += K.sum(K.sum(K.abs(classes_probs_act - classes_probs_pred), 1))\n",
    "\n",
    "    return loss\n",
    "\n",
    "#%\n",
    "# import numpy as np \n",
    "#\n",
    "# y_actual = np.array([[1,0,0.1,0.1,0.1,1],[0,1,0,0,0,0]])\n",
    "# y_pred = np.array([[1,0.1,0.1,0.1,0.1,1],[0,1,1,1,1,0]])\n",
    "# loss = get_loss(y_actual, y_pred)"
   ],
   "outputs": [],
   "metadata": {
    "id": "-katszyLI28R",
    "executionInfo": {
     "status": "ok",
     "timestamp": 1641923654564,
     "user_tz": -60,
     "elapsed": 3,
     "user": {
      "displayName": "Aleksander Jedynak",
      "photoUrl": "https://lh3.googleusercontent.com/a/default-user=s64",
      "userId": "04486690955975365452"
     }
    }
   },
   "id": "-katszyLI28R"
  },
  {
   "cell_type": "code",
   "execution_count": 54,
   "outputs": [],
   "source": [
    "from tensorflow.keras import layers\n",
    "\n",
    "inputs = layers.Input(shape=(p.Y,p.X, 3))\n",
    "\n",
    "model = tf.keras.applications.efficientnet.EfficientNetB0(\n",
    "    include_top=False, weights='imagenet',\n",
    "    input_tensor=inputs\n",
    ")\n",
    "\n",
    "x = layers.GlobalAveragePooling2D(name=\"avg_pool\")(model.output)\n",
    "x = layers.BatchNormalization()(x)\n",
    "\n",
    "top_dropout_rate = 0.2\n",
    "x = layers.Dropout(top_dropout_rate, name=\"top_dropout\")(x)\n",
    "outputs = layers.Dense(output_dim, activation=\"relu\", name=\"pred\")(x)\n",
    "model = tf.keras.Model(inputs, outputs)\n"
   ],
   "metadata": {
    "pycharm": {
     "name": "#%%\n"
    },
    "id": "SeHXmSGBI28R",
    "executionInfo": {
     "status": "ok",
     "timestamp": 1641923656047,
     "user_tz": -60,
     "elapsed": 1485,
     "user": {
      "displayName": "Aleksander Jedynak",
      "photoUrl": "https://lh3.googleusercontent.com/a/default-user=s64",
      "userId": "04486690955975365452"
     }
    }
   },
   "id": "SeHXmSGBI28R"
  },
  {
   "cell_type": "code",
   "execution_count": null,
   "source": [
    "importlib.reload(p)\n",
    "importlib.reload(data)\n",
    "lr_schedule = tf.keras.optimizers.schedules.ExponentialDecay(\n",
    "    initial_learning_rate=1e-3,\n",
    "    decay_steps=1000,\n",
    "    decay_rate=0.9)\n",
    "model.compile(optimizer=tf.keras.optimizers.Adam(learning_rate=lr_schedule),\n",
    "              loss=get_loss,\n",
    "              metrics=tf.keras.metrics.MeanAbsoluteError(name=\"mean_absolute_error\", dtype=None))\n",
    "a = model. fit(ds, epochs=10)"
   ],
   "outputs": [
    {
     "output_type": "stream",
     "name": "stdout",
     "text": [
      "Epoch 1/10\n",
      "10240/10240 [==============================] - 787s 76ms/step - loss: 214.1894 - mean_absolute_error: 0.2537\n",
      "Epoch 2/10\n",
      "10240/10240 [==============================] - 759s 74ms/step - loss: 198.1307 - mean_absolute_error: 0.2422\n",
      "Epoch 3/10\n",
      "10240/10240 [==============================] - 765s 75ms/step - loss: 196.1903 - mean_absolute_error: 0.2410\n",
      "Epoch 4/10\n",
      "10240/10240 [==============================] - 758s 74ms/step - loss: 195.6611 - mean_absolute_error: 0.2408\n",
      "Epoch 5/10\n",
      " 4320/10240 [===========>..................] - ETA: 7:19 - loss: 192.6303 - mean_absolute_error: 0.2404"
     ]
    }
   ],
   "metadata": {
    "id": "iEXrfwyXI28S",
    "colab": {
     "base_uri": "https://localhost:8080/"
    },
    "outputId": "7ea01bf4-3c47-46f1-c3f4-741240b6b300"
   },
   "id": "iEXrfwyXI28S"
  },
  {
   "cell_type": "code",
   "source": [
    "model.save_weights(\"aaa/a1\")"
   ],
   "metadata": {
    "id": "3HUpcTBFyjnB"
   },
   "id": "3HUpcTBFyjnB",
   "execution_count": null,
   "outputs": []
  },
  {
   "cell_type": "code",
   "source": [
    "g = generate_data(b'/content/drive/MyDrive/noteheadBlack', p.BATCH_SIZE, output_dim)"
   ],
   "metadata": {
    "id": "e36Zy1J31nSB"
   },
   "id": "e36Zy1J31nSB",
   "execution_count": null,
   "outputs": []
  },
  {
   "cell_type": "code",
   "execution_count": null,
   "outputs": [],
   "source": [
    "aa = g.__next__()\n",
    "aaa = model.predict(aa[0])\n",
    "importlib.reload(v)\n",
    "v.show_prediction(aaa, aa[0])"
   ],
   "metadata": {
    "pycharm": {
     "name": "#%%\n"
    },
    "id": "Bat_fDa9I28T"
   },
   "id": "Bat_fDa9I28T"
  }
 ],
 "metadata": {
  "kernelspec": {
   "name": "python3",
   "language": "python",
   "display_name": "Python 3 (ipykernel)"
  },
  "language_info": {
   "codemirror_mode": {
    "name": "ipython",
    "version": 3
   },
   "file_extension": ".py",
   "mimetype": "text/x-python",
   "name": "python",
   "nbconvert_exporter": "python",
   "pygments_lexer": "ipython3",
   "version": "3.9.6"
  },
  "interpreter": {
   "hash": "247ab06e135bb35fa78c5eff31b2a9a0050dcb5fb773c2631d2a29ac689eeccb"
  },
  "colab": {
   "name": "retriever.ipynb",
   "provenance": [],
   "collapsed_sections": []
  },
  "accelerator": "GPU"
 },
 "nbformat": 4,
 "nbformat_minor": 5
}