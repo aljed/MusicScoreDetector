{
 "cells": [
  {
   "cell_type": "code",
   "execution_count": null,
   "source": [
    "PNG_PATH = 'C:\\\\Users\\\\user\\\\Downloads\\\\deep_scores_dense\\\\deep_scores_dense\\\\images_png'\r\n",
    "XML_PATH = 'C:\\\\Users\\\\user\\\\Downloads\\\\deep_scores_dense\\\\deep_scores_dense\\\\xml_annotations'\r\n",
    "X = 100\r\n",
    "Y = 100\r\n",
    "PARTS_NUMBER = 100"
   ],
   "outputs": [],
   "metadata": {
    "tags": []
   }
  },
  {
   "cell_type": "code",
   "execution_count": null,
   "source": [
    "import os\r\n",
    "import imageio as im\r\n",
    "import random\r\n",
    "import numpy as np\r\n",
    "import time\r\n",
    "from dataclasses import dataclass\r\n",
    "import xml.etree.ElementTree as ET\r\n",
    "\r\n",
    "random.seed()\r\n",
    "\r\n",
    "def split_image(filename):\r\n",
    "    \r\n",
    "    image = np.array(im.imread(PNG_PATH + \"\\\\\" + filename))\r\n",
    "    print(filename)\r\n",
    "    shape = np.shape(image)\r\n",
    "    max_y = shape[0] - Y\r\n",
    "    max_x = shape[1] - X\r\n",
    "    parts = []\r\n",
    "    \r\n",
    "    for i in range(PARTS_NUMBER):\r\n",
    "        random_y = random.randrange(max_y)\r\n",
    "        random_x = random.randrange(max_x)\r\n",
    "        slice = image[random_y:random_y + Y, random_x:random_x + X, 0]\r\n",
    "        parts.append(slice)\r\n",
    "        \r\n",
    "    return parts"
   ],
   "outputs": [],
   "metadata": {
    "tags": []
   }
  },
  {
   "cell_type": "code",
   "execution_count": null,
   "source": [
    "@dataclass\r\n",
    "class BoundingBox:\r\n",
    "    xmin: int\r\n",
    "    xmax: int\r\n",
    "    ymin: int\r\n",
    "    ymax: int\r\n",
    "        \r\n",
    "    def is_within(self, bb):\r\n",
    "        return bb.xmin >= xmin and bb.xmax <= xmax and bb.ymin >= ymin and bb.ymax <= ymax\r\n",
    "\r\n",
    "    def get_normalized(self, x, y):\r\n",
    "        return BoundingBox(xmin/x, xmax/x, ymin/y, ymax/y)\r\n",
    "\r\n",
    "    \r\n",
    "@dataclass\r\n",
    "class Element:\r\n",
    "    typ: str\r\n",
    "    bounding_box: BoundingBox   \r\n",
    "         \r\n",
    "    \r\n",
    "class Page:\r\n",
    "\r\n",
    "    def __init__(self, name, png):\r\n",
    "        self.name = name\r\n",
    "        self.elements = []\r\n",
    "        self.png = png\r\n",
    "        \r\n",
    "    def add(self, element):\r\n",
    "        self.elements.append(element)\r\n",
    "        \r\n",
    "    def retrieve_from_box(self, bb):\r\n",
    "        filtered = []\r\n",
    "        for e in elements:\r\n",
    "            if e.bounding_box.is_within(bb):\r\n",
    "                filtered.append(e)\r\n",
    "        return filtered\r\n",
    "    \r\n",
    "class Retriever:\r\n",
    "    \r\n",
    "    def retrieve():\r\n",
    "\r\n",
    "        files = os.listdir(XML_PATH)\r\n",
    "        pages = []\r\n",
    "        num_of_files = len(files)\r\n",
    "        counter = 1\r\n",
    "\r\n",
    "        for f in files:\r\n",
    "\r\n",
    "            if counter % 10 == 0:\r\n",
    "                print(f'{round(counter*10/num_of_files)}% of the files processed, we are at {counter} in {num_of_files}.')\r\n",
    "            counter += 1\r\n",
    "            image = np(im.imread(PNG_PATH + \"\\\\\" + f.replace(\"xml\", \"png\")))\r\n",
    "            page = Page(f, image)\r\n",
    "            tree = ET.parse(XML_PATH + \"\\\\\" + f)\r\n",
    "            root = tree.getroot()\r\n",
    "\r\n",
    "            for obj in root.iter('object'):\r\n",
    "\r\n",
    "                raw_bb = obj.find('bndbox')\r\n",
    "                page.add(BoundingBox(\r\n",
    "                    raw_bb.find('xmin'),\r\n",
    "                    raw_bb.find('xmax'),\r\n",
    "                    raw_bb.find('ymin'),\r\n",
    "                    raw_bb.find('ymax')\r\n",
    "                ))\r\n",
    "\r\n",
    "            pages.append(page)\r\n",
    "\r\n",
    "        return pages         "
   ],
   "outputs": [],
   "metadata": {}
  },
  {
   "cell_type": "code",
   "execution_count": null,
   "source": [],
   "outputs": [],
   "metadata": {}
  },
  {
   "cell_type": "code",
   "execution_count": null,
   "source": [
    "pages = Retriever.retrieve() "
   ],
   "outputs": [],
   "metadata": {
    "tags": []
   }
  },
  {
   "cell_type": "code",
   "execution_count": null,
   "source": [
    "print(pages[0].elements[0].xmax.text)\r\n"
   ],
   "outputs": [],
   "metadata": {}
  },
  {
   "cell_type": "code",
   "execution_count": null,
   "source": [],
   "outputs": [],
   "metadata": {}
  }
 ],
 "metadata": {
  "kernelspec": {
   "name": "python3",
   "display_name": "Python 3.9.6 64-bit"
  },
  "language_info": {
   "codemirror_mode": {
    "name": "ipython",
    "version": 3
   },
   "file_extension": ".py",
   "mimetype": "text/x-python",
   "name": "python",
   "nbconvert_exporter": "python",
   "pygments_lexer": "ipython3",
   "version": "3.9.6"
  },
  "interpreter": {
   "hash": "247ab06e135bb35fa78c5eff31b2a9a0050dcb5fb773c2631d2a29ac689eeccb"
  }
 },
 "nbformat": 4,
 "nbformat_minor": 5
}