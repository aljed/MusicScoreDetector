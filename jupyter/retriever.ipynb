{
 "cells": [
  {
   "cell_type": "code",
   "execution_count": null,
   "source": [
    "import random\n",
    "import data\n",
    "import os\n",
    "import parameters as p\n",
    "import tensorflow as tf\n",
    "import importlib"
   ],
   "outputs": [],
   "metadata": {
    "pycharm": {
     "is_executing": true
    }
   }
  },
  {
   "cell_type": "code",
   "execution_count": null,
   "outputs": [],
   "source": [
    "importlib.reload(p)\n",
    "importlib.reload(data)"
   ],
   "metadata": {
    "collapsed": false,
    "pycharm": {
     "name": "#%%\n",
     "is_executing": true
    }
   }
  },
  {
   "cell_type": "code",
   "execution_count": null,
   "source": [
    "random.seed()\n",
    "classes = data.retrieve_class_names()\n",
    "output_dim = p.GX * p.GY * (5 + len(classes))\n",
    "pages = data.Retriever().retrieve(classes)"
   ],
   "outputs": [],
   "metadata": {
    "tags": [],
    "pycharm": {
     "is_executing": true
    }
   }
  },
  {
   "cell_type": "code",
   "execution_count": null,
   "source": [
    "files = os.listdir(p.PNG_PATH)\n",
    "generator = data.Generator(pages, output_dim, classes)\n",
    "ds = tf.data.Dataset.from_generator(\n",
    "    generator.generator,\n",
    "    args=[files],\n",
    "    output_types=(tf.int32, tf.float32),\n",
    "    output_shapes=([p.BATCH_SIZE, p.Y, p.X, 3], [p.BATCH_SIZE, output_dim]))"
   ],
   "outputs": [],
   "metadata": {
    "pycharm": {
     "is_executing": true
    }
   }
  },
  {
   "cell_type": "code",
   "execution_count": null,
   "source": [
    "from keras import backend as K\n",
    "\n",
    "def get_loss(y_actual,y_pred):\n",
    "\n",
    "    y_actual_reshaped = K.reshape(y_actual, [p.BATCH_SIZE * p.GX * p.GY, -1])\n",
    "    y_pred_reshaped = K.reshape(y_pred, [p.BATCH_SIZE * p.GX * p.GY, -1])\n",
    "\n",
    "    main_probs_act = y_actual_reshaped[..., :1]\n",
    "    main_probs_pred = y_pred_reshaped[..., :1]\n",
    "    bb_probs_act = y_actual_reshaped[..., 1:5]\n",
    "    bb_probs_pred =  y_pred_reshaped[..., 1:5]\n",
    "    classes_probs_act = y_actual_reshaped[..., 5:]\n",
    "    classes_probs_pred =  y_pred_reshaped[..., 5:]\n",
    "\n",
    "    loss = K.sum(K.binary_crossentropy(main_probs_act, main_probs_pred, from_logits=True))\n",
    "    loss += K.sum(K.sum(K.abs(bb_probs_act - bb_probs_pred), 1) * main_probs_act)\n",
    "    loss += K.sum(K.sum(K.abs(classes_probs_act - classes_probs_pred), 1) * main_probs_act)\n",
    "\n",
    "    return loss\n"
   ],
   "outputs": [],
   "metadata": {
    "pycharm": {
     "is_executing": true
    }
   }
  },
  {
   "cell_type": "code",
   "execution_count": null,
   "outputs": [],
   "source": [
    "vgg = tf.keras.applications.vgg19.VGG19(\n",
    "    include_top=False, weights='imagenet',\n",
    "    input_shape=(p.Y,p.X,3), pooling='avg'\n",
    ")\n",
    "\n",
    "model = tf.keras.Sequential(vgg.layers)\n",
    "model.add(tf.keras.layers.Dense(output_dim, activation='relu'))"
   ],
   "metadata": {
    "collapsed": false,
    "pycharm": {
     "name": "#%%\n",
     "is_executing": true
    }
   }
  },
  {
   "cell_type": "code",
   "execution_count": null,
   "source": [
    "importlib.reload(p)\n",
    "importlib.reload(data)\n",
    "model.compile(optimizer='adam',\n",
    "              loss=get_loss,\n",
    "              metrics=tf.keras.metrics.MeanAbsoluteError(name=\"mean_absolute_error\", dtype=None))\n",
    "a = model. fit(ds, epochs=1)"
   ],
   "outputs": [],
   "metadata": {
    "pycharm": {
     "is_executing": true
    }
   }
  },
  {
   "cell_type": "code",
   "execution_count": null,
   "outputs": [],
   "source": [
    "aa = generator.generator(files).__next__()\n",
    "aaa = model.predict(aa[0])\n",
    "get_loss(aa[1].astype('float32'), aaa)\n",
    "\n",
    "a = aa[0][0]\n",
    "import viewer as v\n",
    "v.show_prediction(aa[1][0], aa[0][0])\n"
   ],
   "metadata": {
    "collapsed": false,
    "pycharm": {
     "name": "#%%\n",
     "is_executing": true
    }
   }
  }
 ],
 "metadata": {
  "kernelspec": {
   "name": "python3",
   "language": "python",
   "display_name": "Python 3 (ipykernel)"
  },
  "language_info": {
   "codemirror_mode": {
    "name": "ipython",
    "version": 3
   },
   "file_extension": ".py",
   "mimetype": "text/x-python",
   "name": "python",
   "nbconvert_exporter": "python",
   "pygments_lexer": "ipython3",
   "version": "3.9.6"
  },
  "interpreter": {
   "hash": "247ab06e135bb35fa78c5eff31b2a9a0050dcb5fb773c2631d2a29ac689eeccb"
  }
 },
 "nbformat": 4,
 "nbformat_minor": 5
}